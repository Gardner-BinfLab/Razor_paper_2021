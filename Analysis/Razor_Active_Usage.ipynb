{
 "cells": [
  {
   "cell_type": "markdown",
   "id": "cad4df70-04d6-4bd8-b580-6d64dc86e1df",
   "metadata": {},
   "source": [
    "### Razor active usage"
   ]
  },
  {
   "cell_type": "markdown",
   "id": "6e1db202-a4f5-40e0-a4d1-6fa90a7398bb",
   "metadata": {},
   "source": [
    "Google Analytics data from 11 February 2020, to 4 October 2023, is available. Data from 5 October 2023, to 31 January 2024, is missing due to the transition to GA4. Therefore, we have estimated the year-over-year growth of Razor active usage based on data from 1 February 2023, to 4 October 2023, and 1 February 2024, to 4 October 2024."
   ]
  },
  {
   "cell_type": "code",
   "execution_count": 1,
   "id": "67db3f1d-a184-4814-bfaa-eb50bb6e8269",
   "metadata": {},
   "outputs": [],
   "source": [
    "import pandas as pd\n",
    "\n",
    "de = pd.read_excel('../data/usage/TIsigner_analytics_report.xlsx', sheet_name='Daily Event Performance', skiprows=14)\n",
    "de = de.sort_values('Date')"
   ]
  },
  {
   "cell_type": "markdown",
   "id": "66757bbd-0901-4093-9e01-29caf263f675",
   "metadata": {},
   "source": [
    "Google Analytics data from 1 Feb 2023 to 4 Oct 2023"
   ]
  },
  {
   "cell_type": "code",
   "execution_count": 2,
   "id": "7e74e125-1136-4db4-871f-415a6f3387e7",
   "metadata": {},
   "outputs": [],
   "source": [
    "ly = de[(de['Date'] >= '2023-02-01')]"
   ]
  },
  {
   "cell_type": "markdown",
   "id": "0e0d1426-3494-4cb3-b3da-78ac0fcc968e",
   "metadata": {},
   "source": [
    "How times was Razor used?"
   ]
  },
  {
   "cell_type": "code",
   "execution_count": 3,
   "id": "27aff571-e5ff-4045-aaf1-17144d0d5a5a",
   "metadata": {},
   "outputs": [
    {
     "data": {
      "text/plain": [
       "629"
      ]
     },
     "execution_count": 3,
     "metadata": {},
     "output_type": "execute_result"
    }
   ],
   "source": [
    "ly[ly['Event Category'].str.contains('Razor Results')]['Total Events'].sum()"
   ]
  },
  {
   "cell_type": "markdown",
   "id": "7afb5ad8-8510-454d-a205-b50b01a1433c",
   "metadata": {},
   "source": [
    "How times was SoDoPE used?"
   ]
  },
  {
   "cell_type": "code",
   "execution_count": 4,
   "id": "9b26683f-89c7-4d5d-a3d0-77439c96d3bb",
   "metadata": {},
   "outputs": [
    {
     "data": {
      "text/plain": [
       "12302"
      ]
     },
     "execution_count": 4,
     "metadata": {},
     "output_type": "execute_result"
    }
   ],
   "source": [
    "ly[ly['Event Category'].str.contains('SoDoPE Results')]['Total Events'].sum()"
   ]
  },
  {
   "cell_type": "markdown",
   "id": "b5b8170d-69e3-4e08-a3d2-10e94e452066",
   "metadata": {},
   "source": [
    "How times was TIsigner used?"
   ]
  },
  {
   "cell_type": "code",
   "execution_count": 5,
   "id": "3ade41fd-2d39-420a-960a-d5eb483f9048",
   "metadata": {},
   "outputs": [
    {
     "data": {
      "text/plain": [
       "6253"
      ]
     },
     "execution_count": 5,
     "metadata": {},
     "output_type": "execute_result"
    }
   ],
   "source": [
    "ly[ly['Event Category'].str.contains('TIsigner Result')]['Total Events'].sum()"
   ]
  },
  {
   "cell_type": "markdown",
   "id": "e29540a3-55dd-4458-abed-d2ecd7656723",
   "metadata": {},
   "source": [
    "The proportion of Razor usage"
   ]
  },
  {
   "cell_type": "code",
   "execution_count": 6,
   "id": "01c2d213-9f14-4421-96ad-4d60a9e6e3e1",
   "metadata": {},
   "outputs": [
    {
     "data": {
      "text/plain": [
       "3.2787739783152627"
      ]
     },
     "execution_count": 6,
     "metadata": {},
     "output_type": "execute_result"
    }
   ],
   "source": [
    "629/(629+12302+6253)*100"
   ]
  },
  {
   "cell_type": "code",
   "execution_count": null,
   "id": "6b701451-00fe-4ea1-96a1-fd1667887518",
   "metadata": {},
   "outputs": [],
   "source": []
  },
  {
   "cell_type": "markdown",
   "id": "52c44bed-6c3e-482d-92bd-1befe7272574",
   "metadata": {},
   "source": [
    "Google Analytics data from 1 Feb 2024 to 4 Oct 2024"
   ]
  },
  {
   "cell_type": "code",
   "execution_count": 7,
   "id": "ca431147-61c6-4dea-b81e-f675a01d4574",
   "metadata": {},
   "outputs": [
    {
     "data": {
      "text/plain": [
       "Index(['Event name', 'Event count', 'Total users',\n",
       "       'Event count per active user', 'Total revenue'],\n",
       "      dtype='object')"
      ]
     },
     "execution_count": 7,
     "metadata": {},
     "output_type": "execute_result"
    }
   ],
   "source": [
    "ga4 = pd.read_csv('../data/usage/data-export_240201-241004.csv', skiprows=9)\n",
    "ga4.columns"
   ]
  },
  {
   "cell_type": "markdown",
   "id": "18a292f1-6bad-42b9-91f9-cbc63bc3b19b",
   "metadata": {},
   "source": [
    "How many times was Razor used?"
   ]
  },
  {
   "cell_type": "code",
   "execution_count": 8,
   "id": "0b606893-7b18-49ec-b69b-e3438bed73d1",
   "metadata": {},
   "outputs": [
    {
     "data": {
      "text/plain": [
       "891"
      ]
     },
     "execution_count": 8,
     "metadata": {},
     "output_type": "execute_result"
    }
   ],
   "source": [
    "ga4[ga4['Event name'].str.contains('Razor Results')]['Event count'].sum()"
   ]
  },
  {
   "cell_type": "markdown",
   "id": "814b8995-c0f2-4490-9e09-b3f5db5cef8e",
   "metadata": {},
   "source": [
    "How many times was SoDoPE used?"
   ]
  },
  {
   "cell_type": "code",
   "execution_count": 9,
   "id": "aad0e64a-7189-4593-8b0b-22da29aa111e",
   "metadata": {},
   "outputs": [
    {
     "data": {
      "text/plain": [
       "6015"
      ]
     },
     "execution_count": 9,
     "metadata": {},
     "output_type": "execute_result"
    }
   ],
   "source": [
    "ga4[ga4['Event name'].str.contains('SoDoPE Results')]['Event count'].sum()"
   ]
  },
  {
   "cell_type": "markdown",
   "id": "82e464f6-4f97-4807-83d6-e3fe80e0d4b2",
   "metadata": {},
   "source": [
    "How many times was TIsigner used?"
   ]
  },
  {
   "cell_type": "code",
   "execution_count": 10,
   "id": "9dfce341-b51d-459a-81b4-7b3589a77f54",
   "metadata": {},
   "outputs": [
    {
     "data": {
      "text/plain": [
       "3784"
      ]
     },
     "execution_count": 10,
     "metadata": {},
     "output_type": "execute_result"
    }
   ],
   "source": [
    "ga4[ga4['Event name'].str.contains('TIsigner Submit Clicked')]['Event count'].sum()"
   ]
  },
  {
   "cell_type": "markdown",
   "id": "a99efc1e-f3a6-4465-837c-fd75ce21e5a2",
   "metadata": {},
   "source": [
    "The proportion of Razor usage"
   ]
  },
  {
   "cell_type": "code",
   "execution_count": 11,
   "id": "5f9cd215-9b88-4245-9d39-0af7895cf2f2",
   "metadata": {},
   "outputs": [
    {
     "data": {
      "text/plain": [
       "8.334892422825071"
      ]
     },
     "execution_count": 11,
     "metadata": {},
     "output_type": "execute_result"
    }
   ],
   "source": [
    "891/(891+6015+3784)*100"
   ]
  },
  {
   "cell_type": "markdown",
   "id": "ca0aefbd-42bc-4218-8209-7ec240188f80",
   "metadata": {},
   "source": [
    "Year-over-year growth of Razor active usage"
   ]
  },
  {
   "cell_type": "code",
   "execution_count": 12,
   "id": "c8f008de-b336-4a83-8cfb-bf8dd13f4ee0",
   "metadata": {},
   "outputs": [
    {
     "data": {
      "text/plain": [
       "41.65341812400636"
      ]
     },
     "execution_count": 12,
     "metadata": {},
     "output_type": "execute_result"
    }
   ],
   "source": [
    "(891-629)/629*100"
   ]
  },
  {
   "cell_type": "code",
   "execution_count": null,
   "id": "612f0cae-6cda-46e2-a5e1-ef1e9fa50cce",
   "metadata": {},
   "outputs": [],
   "source": []
  }
 ],
 "metadata": {
  "kernelspec": {
   "display_name": "Python [conda env:base] *",
   "language": "python",
   "name": "conda-base-py"
  },
  "language_info": {
   "codemirror_mode": {
    "name": "ipython",
    "version": 3
   },
   "file_extension": ".py",
   "mimetype": "text/x-python",
   "name": "python",
   "nbconvert_exporter": "python",
   "pygments_lexer": "ipython3",
   "version": "3.12.2"
  }
 },
 "nbformat": 4,
 "nbformat_minor": 5
}
